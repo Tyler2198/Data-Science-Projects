{
  "nbformat": 4,
  "nbformat_minor": 0,
  "metadata": {
    "colab": {
      "provenance": [],
      "gpuType": "T4"
    },
    "kernelspec": {
      "name": "python3",
      "display_name": "Python 3"
    },
    "language_info": {
      "name": "python"
    },
    "accelerator": "GPU"
  },
  "cells": [
    {
      "cell_type": "code",
      "execution_count": 1,
      "metadata": {
        "colab": {
          "base_uri": "https://localhost:8080/"
        },
        "id": "965xXzuCZzEP",
        "outputId": "8bf6b2ae-dea0-4ec1-d0ff-f1476819b576"
      },
      "outputs": [
        {
          "output_type": "stream",
          "name": "stdout",
          "text": [
            "Downloading data from https://storage.googleapis.com/tensorflow/tf-keras-datasets/imdb.npz\n",
            "17464789/17464789 [==============================] - 2s 0us/step\n"
          ]
        }
      ],
      "source": [
        "from tensorflow.keras.datasets import imdb\n",
        "(train_data, train_labels), (test_data, test_labels) = imdb.load_data(num_words=10000)"
      ]
    },
    {
      "cell_type": "code",
      "source": [
        "import numpy as np\n",
        "\n",
        "def vectorize_sequences(sequences, dimension=10000):\n",
        "  results = np.zeros((len(sequences), dimension))\n",
        "  for i, sequence in enumerate(sequences):\n",
        "    for j in sequence:\n",
        "      results[i, j] = 1.\n",
        "  return results\n",
        "\n",
        "x_train = vectorize_sequences(train_data)\n",
        "x_test = vectorize_sequences(test_data)"
      ],
      "metadata": {
        "id": "qbvlJmqoaHAd"
      },
      "execution_count": 2,
      "outputs": []
    },
    {
      "cell_type": "code",
      "source": [
        "y_train = np.asarray(train_labels).astype(\"float32\")\n",
        "y_test = np.asarray(test_labels).astype(\"float32\")"
      ],
      "metadata": {
        "id": "D7s1zff8aL_i"
      },
      "execution_count": 3,
      "outputs": []
    },
    {
      "cell_type": "code",
      "source": [
        "x_val = x_train[:10000]\n",
        "partial_x_train = x_train[10000:]\n",
        "y_val = y_train[:10000]\n",
        "partial_y_train = y_train[10000:]"
      ],
      "metadata": {
        "id": "CYnwwyLhaffF"
      },
      "execution_count": 4,
      "outputs": []
    },
    {
      "cell_type": "code",
      "source": [
        "from tensorflow import keras\n",
        "from tensorflow.keras import layers\n",
        "\n",
        "model = keras.Sequential([\n",
        "    layers.Dense(16, activation=\"relu\"),\n",
        "    layers.Dense(16, activation=\"relu\"),\n",
        "    layers.Dense(16, activation=\"relu\"),\n",
        "    layers.Dense(1, activation=\"sigmoid\")\n",
        "])\n",
        "\n",
        "model.compile(optimizer=\"rmsprop\",\n",
        "              loss=\"binary_crossentropy\",\n",
        "              metrics=[\"accuracy\"])\n",
        "\n",
        "history = model.fit(partial_x_train,\n",
        "                    partial_y_train,\n",
        "                    epochs=4,\n",
        "                    batch_size=512,\n",
        "                    validation_data=(x_val, y_val))"
      ],
      "metadata": {
        "colab": {
          "base_uri": "https://localhost:8080/"
        },
        "id": "E5YpgicEaNtk",
        "outputId": "841c0953-5b81-491e-f307-409b248455b5"
      },
      "execution_count": 5,
      "outputs": [
        {
          "output_type": "stream",
          "name": "stdout",
          "text": [
            "Epoch 1/4\n",
            "30/30 [==============================] - 4s 69ms/step - loss: 0.5800 - accuracy: 0.7379 - val_loss: 0.4311 - val_accuracy: 0.8629\n",
            "Epoch 2/4\n",
            "30/30 [==============================] - 1s 24ms/step - loss: 0.3511 - accuracy: 0.8840 - val_loss: 0.3192 - val_accuracy: 0.8838\n",
            "Epoch 3/4\n",
            "30/30 [==============================] - 1s 25ms/step - loss: 0.2527 - accuracy: 0.9167 - val_loss: 0.2875 - val_accuracy: 0.8850\n",
            "Epoch 4/4\n",
            "30/30 [==============================] - 1s 22ms/step - loss: 0.1962 - accuracy: 0.9339 - val_loss: 0.3223 - val_accuracy: 0.8720\n"
          ]
        }
      ]
    },
    {
      "cell_type": "code",
      "source": [
        "model.evaluate(x_test, y_test)"
      ],
      "metadata": {
        "colab": {
          "base_uri": "https://localhost:8080/"
        },
        "id": "Gf5waHmaakTs",
        "outputId": "b6ce41fc-d0a5-44e7-dc94-9a95832032e2"
      },
      "execution_count": 6,
      "outputs": [
        {
          "output_type": "stream",
          "name": "stdout",
          "text": [
            "782/782 [==============================] - 2s 3ms/step - loss: 0.3440 - accuracy: 0.8595\n"
          ]
        },
        {
          "output_type": "execute_result",
          "data": {
            "text/plain": [
              "[0.34403252601623535, 0.8594800233840942]"
            ]
          },
          "metadata": {},
          "execution_count": 6
        }
      ]
    },
    {
      "cell_type": "markdown",
      "source": [
        "Overall, we would choose a model with one intermediate layer as overall losses are lower and accuracies are higher."
      ],
      "metadata": {
        "id": "DO6SpJLibWBB"
      }
    },
    {
      "cell_type": "markdown",
      "source": [
        "## **Changing the number of units**\n",
        "\n",
        "We now try different numbers of units in our intermediate layer. We start with 32 and then 64."
      ],
      "metadata": {
        "id": "vmRjHszqbo_u"
      }
    },
    {
      "cell_type": "code",
      "source": [
        "model = keras.Sequential([\n",
        "    layers.Dense(32, activation=\"relu\"),\n",
        "    layers.Dense(1, activation=\"sigmoid\")\n",
        "])\n",
        "\n",
        "model.compile(optimizer=\"rmsprop\",\n",
        "              loss=\"binary_crossentropy\",\n",
        "              metrics=[\"accuracy\"])\n",
        "\n",
        "history = model.fit(partial_x_train,\n",
        "                    partial_y_train,\n",
        "                    epochs=20,\n",
        "                    batch_size=512,\n",
        "                    validation_data=(x_val, y_val))"
      ],
      "metadata": {
        "colab": {
          "base_uri": "https://localhost:8080/"
        },
        "id": "F8Xo8TorbzTC",
        "outputId": "bb1b3ac4-cddc-4ff2-8ce5-d96dd2dc0c90"
      },
      "execution_count": 7,
      "outputs": [
        {
          "output_type": "stream",
          "name": "stdout",
          "text": [
            "Epoch 1/20\n",
            "30/30 [==============================] - 4s 102ms/step - loss: 0.4890 - accuracy: 0.7931 - val_loss: 0.3675 - val_accuracy: 0.8746\n",
            "Epoch 2/20\n",
            "30/30 [==============================] - 1s 23ms/step - loss: 0.3076 - accuracy: 0.8973 - val_loss: 0.3071 - val_accuracy: 0.8860\n",
            "Epoch 3/20\n",
            "30/30 [==============================] - 1s 22ms/step - loss: 0.2429 - accuracy: 0.9177 - val_loss: 0.2848 - val_accuracy: 0.8886\n",
            "Epoch 4/20\n",
            "30/30 [==============================] - 1s 22ms/step - loss: 0.2050 - accuracy: 0.9309 - val_loss: 0.2786 - val_accuracy: 0.8882\n",
            "Epoch 5/20\n",
            "30/30 [==============================] - 1s 23ms/step - loss: 0.1814 - accuracy: 0.9395 - val_loss: 0.2748 - val_accuracy: 0.8866\n",
            "Epoch 6/20\n",
            "30/30 [==============================] - 1s 24ms/step - loss: 0.1587 - accuracy: 0.9463 - val_loss: 0.2823 - val_accuracy: 0.8869\n",
            "Epoch 7/20\n",
            "30/30 [==============================] - 1s 22ms/step - loss: 0.1436 - accuracy: 0.9549 - val_loss: 0.3028 - val_accuracy: 0.8781\n",
            "Epoch 8/20\n",
            "30/30 [==============================] - 1s 23ms/step - loss: 0.1302 - accuracy: 0.9594 - val_loss: 0.2902 - val_accuracy: 0.8862\n",
            "Epoch 9/20\n",
            "30/30 [==============================] - 1s 22ms/step - loss: 0.1192 - accuracy: 0.9639 - val_loss: 0.2986 - val_accuracy: 0.8833\n",
            "Epoch 10/20\n",
            "30/30 [==============================] - 1s 25ms/step - loss: 0.1069 - accuracy: 0.9678 - val_loss: 0.3151 - val_accuracy: 0.8819\n",
            "Epoch 11/20\n",
            "30/30 [==============================] - 1s 22ms/step - loss: 0.0987 - accuracy: 0.9721 - val_loss: 0.3109 - val_accuracy: 0.8816\n",
            "Epoch 12/20\n",
            "30/30 [==============================] - 1s 24ms/step - loss: 0.0910 - accuracy: 0.9755 - val_loss: 0.3242 - val_accuracy: 0.8795\n",
            "Epoch 13/20\n",
            "30/30 [==============================] - 1s 22ms/step - loss: 0.0828 - accuracy: 0.9794 - val_loss: 0.3292 - val_accuracy: 0.8792\n",
            "Epoch 14/20\n",
            "30/30 [==============================] - 1s 22ms/step - loss: 0.0756 - accuracy: 0.9822 - val_loss: 0.3510 - val_accuracy: 0.8728\n",
            "Epoch 15/20\n",
            "30/30 [==============================] - 1s 21ms/step - loss: 0.0702 - accuracy: 0.9835 - val_loss: 0.3769 - val_accuracy: 0.8744\n",
            "Epoch 16/20\n",
            "30/30 [==============================] - 1s 37ms/step - loss: 0.0621 - accuracy: 0.9871 - val_loss: 0.3629 - val_accuracy: 0.8751\n",
            "Epoch 17/20\n",
            "30/30 [==============================] - 1s 40ms/step - loss: 0.0590 - accuracy: 0.9884 - val_loss: 0.3829 - val_accuracy: 0.8755\n",
            "Epoch 18/20\n",
            "30/30 [==============================] - 1s 22ms/step - loss: 0.0539 - accuracy: 0.9897 - val_loss: 0.4002 - val_accuracy: 0.8683\n",
            "Epoch 19/20\n",
            "30/30 [==============================] - 1s 22ms/step - loss: 0.0495 - accuracy: 0.9917 - val_loss: 0.3926 - val_accuracy: 0.8745\n",
            "Epoch 20/20\n",
            "30/30 [==============================] - 1s 21ms/step - loss: 0.0467 - accuracy: 0.9915 - val_loss: 0.4086 - val_accuracy: 0.8712\n"
          ]
        }
      ]
    },
    {
      "cell_type": "code",
      "source": [
        "model = keras.Sequential([\n",
        "    layers.Dense(32, activation=\"relu\"),\n",
        "    layers.Dense(1, activation=\"sigmoid\")\n",
        "])\n",
        "\n",
        "model.compile(optimizer=\"rmsprop\",\n",
        "              loss=\"binary_crossentropy\",\n",
        "              metrics=[\"accuracy\"])\n",
        "\n",
        "history = model.fit(partial_x_train,\n",
        "                    partial_y_train,\n",
        "                    epochs=5,\n",
        "                    batch_size=512,\n",
        "                    validation_data=(x_val, y_val))"
      ],
      "metadata": {
        "colab": {
          "base_uri": "https://localhost:8080/"
        },
        "id": "xGAsKAwv7bUT",
        "outputId": "9769f0cc-40c1-4f42-9a94-a4844ad24851"
      },
      "execution_count": 8,
      "outputs": [
        {
          "output_type": "stream",
          "name": "stdout",
          "text": [
            "Epoch 1/5\n",
            "30/30 [==============================] - 3s 67ms/step - loss: 0.5039 - accuracy: 0.7787 - val_loss: 0.3804 - val_accuracy: 0.8683\n",
            "Epoch 2/5\n",
            "30/30 [==============================] - 1s 38ms/step - loss: 0.3180 - accuracy: 0.8954 - val_loss: 0.3133 - val_accuracy: 0.8830\n",
            "Epoch 3/5\n",
            "30/30 [==============================] - 1s 32ms/step - loss: 0.2519 - accuracy: 0.9164 - val_loss: 0.2871 - val_accuracy: 0.8910\n",
            "Epoch 4/5\n",
            "30/30 [==============================] - 1s 27ms/step - loss: 0.2119 - accuracy: 0.9295 - val_loss: 0.3008 - val_accuracy: 0.8777\n",
            "Epoch 5/5\n",
            "30/30 [==============================] - 1s 21ms/step - loss: 0.1874 - accuracy: 0.9372 - val_loss: 0.2749 - val_accuracy: 0.8867\n"
          ]
        }
      ]
    },
    {
      "cell_type": "code",
      "source": [
        " model.evaluate(x_test, y_test)"
      ],
      "metadata": {
        "colab": {
          "base_uri": "https://localhost:8080/"
        },
        "id": "VgoJ2i8b7pfU",
        "outputId": "73cbd11c-261a-456f-84cd-5a13702481be"
      },
      "execution_count": 9,
      "outputs": [
        {
          "output_type": "stream",
          "name": "stdout",
          "text": [
            "782/782 [==============================] - 3s 3ms/step - loss: 0.2872 - accuracy: 0.8833\n"
          ]
        },
        {
          "output_type": "execute_result",
          "data": {
            "text/plain": [
              "[0.28721413016319275, 0.8832799792289734]"
            ]
          },
          "metadata": {},
          "execution_count": 9
        }
      ]
    },
    {
      "cell_type": "code",
      "source": [
        "model = keras.Sequential([\n",
        "    layers.Dense(64, activation=\"relu\"),\n",
        "    layers.Dense(1, activation=\"sigmoid\")\n",
        "])\n",
        "\n",
        "model.compile(optimizer=\"rmsprop\",\n",
        "              loss=\"binary_crossentropy\",\n",
        "              metrics=[\"accuracy\"])\n",
        "\n",
        "history = model.fit(partial_x_train,\n",
        "                    partial_y_train,\n",
        "                    epochs=20,\n",
        "                    batch_size=512,\n",
        "                    validation_data=(x_val, y_val))"
      ],
      "metadata": {
        "colab": {
          "base_uri": "https://localhost:8080/"
        },
        "id": "Kq0pWU8Wbl78",
        "outputId": "a803be43-6da6-4714-b69b-9169fbd39c0e"
      },
      "execution_count": 10,
      "outputs": [
        {
          "output_type": "stream",
          "name": "stdout",
          "text": [
            "Epoch 1/20\n",
            "30/30 [==============================] - 3s 64ms/step - loss: 0.4952 - accuracy: 0.7689 - val_loss: 0.3642 - val_accuracy: 0.8652\n",
            "Epoch 2/20\n",
            "30/30 [==============================] - 1s 21ms/step - loss: 0.3015 - accuracy: 0.8937 - val_loss: 0.3090 - val_accuracy: 0.8795\n",
            "Epoch 3/20\n",
            "30/30 [==============================] - 1s 22ms/step - loss: 0.2405 - accuracy: 0.9158 - val_loss: 0.3013 - val_accuracy: 0.8761\n",
            "Epoch 4/20\n",
            "30/30 [==============================] - 1s 22ms/step - loss: 0.2125 - accuracy: 0.9248 - val_loss: 0.3055 - val_accuracy: 0.8751\n",
            "Epoch 5/20\n",
            "30/30 [==============================] - 1s 22ms/step - loss: 0.1819 - accuracy: 0.9385 - val_loss: 0.2804 - val_accuracy: 0.8877\n",
            "Epoch 6/20\n",
            "30/30 [==============================] - 1s 23ms/step - loss: 0.1648 - accuracy: 0.9438 - val_loss: 0.2784 - val_accuracy: 0.8858\n",
            "Epoch 7/20\n",
            "30/30 [==============================] - 1s 23ms/step - loss: 0.1429 - accuracy: 0.9541 - val_loss: 0.3015 - val_accuracy: 0.8827\n",
            "Epoch 8/20\n",
            "30/30 [==============================] - 1s 21ms/step - loss: 0.1342 - accuracy: 0.9567 - val_loss: 0.3338 - val_accuracy: 0.8765\n",
            "Epoch 9/20\n",
            "30/30 [==============================] - 1s 22ms/step - loss: 0.1197 - accuracy: 0.9622 - val_loss: 0.3040 - val_accuracy: 0.8846\n",
            "Epoch 10/20\n",
            "30/30 [==============================] - 1s 22ms/step - loss: 0.1085 - accuracy: 0.9663 - val_loss: 0.3046 - val_accuracy: 0.8822\n",
            "Epoch 11/20\n",
            "30/30 [==============================] - 1s 39ms/step - loss: 0.1015 - accuracy: 0.9688 - val_loss: 0.3150 - val_accuracy: 0.8803\n",
            "Epoch 12/20\n",
            "30/30 [==============================] - 1s 28ms/step - loss: 0.0900 - accuracy: 0.9738 - val_loss: 0.3270 - val_accuracy: 0.8800\n",
            "Epoch 13/20\n",
            "30/30 [==============================] - 1s 24ms/step - loss: 0.0819 - accuracy: 0.9777 - val_loss: 0.4310 - val_accuracy: 0.8592\n",
            "Epoch 14/20\n",
            "30/30 [==============================] - 1s 22ms/step - loss: 0.0768 - accuracy: 0.9807 - val_loss: 0.3416 - val_accuracy: 0.8807\n",
            "Epoch 15/20\n",
            "30/30 [==============================] - 1s 22ms/step - loss: 0.0697 - accuracy: 0.9819 - val_loss: 0.3617 - val_accuracy: 0.8727\n",
            "Epoch 16/20\n",
            "30/30 [==============================] - 1s 25ms/step - loss: 0.0649 - accuracy: 0.9832 - val_loss: 0.4325 - val_accuracy: 0.8696\n",
            "Epoch 17/20\n",
            "30/30 [==============================] - 1s 22ms/step - loss: 0.0546 - accuracy: 0.9887 - val_loss: 0.3730 - val_accuracy: 0.8756\n",
            "Epoch 18/20\n",
            "30/30 [==============================] - 1s 22ms/step - loss: 0.0546 - accuracy: 0.9878 - val_loss: 0.3851 - val_accuracy: 0.8748\n",
            "Epoch 19/20\n",
            "30/30 [==============================] - 1s 25ms/step - loss: 0.0467 - accuracy: 0.9916 - val_loss: 0.4807 - val_accuracy: 0.8528\n",
            "Epoch 20/20\n",
            "30/30 [==============================] - 1s 21ms/step - loss: 0.0472 - accuracy: 0.9896 - val_loss: 0.4176 - val_accuracy: 0.8699\n"
          ]
        }
      ]
    },
    {
      "cell_type": "code",
      "source": [
        "model = keras.Sequential([\n",
        "    layers.Dense(64, activation=\"relu\"),\n",
        "    layers.Dense(1, activation=\"sigmoid\")\n",
        "])\n",
        "\n",
        "model.compile(optimizer=\"rmsprop\",\n",
        "              loss=\"binary_crossentropy\",\n",
        "              metrics=[\"accuracy\"])\n",
        "\n",
        "history = model.fit(partial_x_train,\n",
        "                    partial_y_train,\n",
        "                    epochs=5,\n",
        "                    batch_size=512,\n",
        "                    validation_data=(x_val, y_val))"
      ],
      "metadata": {
        "colab": {
          "base_uri": "https://localhost:8080/"
        },
        "id": "WcsZtrJq8bJj",
        "outputId": "de017e8c-9d08-4e79-a1ca-a675cd006abf"
      },
      "execution_count": 11,
      "outputs": [
        {
          "output_type": "stream",
          "name": "stdout",
          "text": [
            "Epoch 1/5\n",
            "30/30 [==============================] - 2s 64ms/step - loss: 0.4935 - accuracy: 0.7770 - val_loss: 0.3637 - val_accuracy: 0.8701\n",
            "Epoch 2/5\n",
            "30/30 [==============================] - 1s 25ms/step - loss: 0.3034 - accuracy: 0.8910 - val_loss: 0.3007 - val_accuracy: 0.8851\n",
            "Epoch 3/5\n",
            "30/30 [==============================] - 1s 40ms/step - loss: 0.2424 - accuracy: 0.9149 - val_loss: 0.2909 - val_accuracy: 0.8838\n",
            "Epoch 4/5\n",
            "30/30 [==============================] - 1s 29ms/step - loss: 0.2034 - accuracy: 0.9305 - val_loss: 0.2886 - val_accuracy: 0.8834\n",
            "Epoch 5/5\n",
            "30/30 [==============================] - 1s 21ms/step - loss: 0.1794 - accuracy: 0.9387 - val_loss: 0.2898 - val_accuracy: 0.8826\n"
          ]
        }
      ]
    },
    {
      "cell_type": "markdown",
      "source": [
        "A model with one intermediate layer and 32 units yields better results with a test loss of 0.287 and an accuracy of 0.88."
      ],
      "metadata": {
        "id": "fODcwzsb9TGj"
      }
    }
  ]
}